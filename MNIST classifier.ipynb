{
 "cells": [
  {
   "cell_type": "markdown",
   "metadata": {},
   "source": [
    "Define the DigitClassificationInterface. This interface will ensure that all models have a predict method that takes a 28x28x1 image as input and returns a single integer value"
   ]
  },
  {
   "cell_type": "code",
   "execution_count": 15,
   "metadata": {},
   "outputs": [
    {
     "name": "stdout",
     "output_type": "stream",
     "text": [
      "WARNING:tensorflow:From C:\\Users\\uazhyhalbo\\AppData\\Local\\Temp\\ipykernel_36868\\3047739591.py:12: The name tf.logging.set_verbosity is deprecated. Please use tf.compat.v1.logging.set_verbosity instead.\n",
      "\n"
     ]
    }
   ],
   "source": [
    "from abc import ABC, abstractmethod\n",
    "import numpy as np\n",
    "\n",
    "import tensorflow as tf\n",
    "from tensorflow.keras import layers, models\n",
    "\n",
    "from abc import ABC, abstractmethod\n",
    "import numpy as np\n",
    "from sklearn.ensemble import RandomForestClassifier\n",
    "\n",
    "# Suppress TensorFlow warnings\n",
    "tf.compat.v1.logging.set_verbosity(tf.compat.v1.logging.ERROR)\n"
   ]
  },
  {
   "cell_type": "code",
   "execution_count": 10,
   "metadata": {},
   "outputs": [],
   "source": [
    "class DigitClassificationInterface(ABC):\n",
    "    @abstractmethod\n",
    "    def predict(self, image: np.ndarray) -> int:\n",
    "        pass"
   ]
  },
  {
   "cell_type": "markdown",
   "metadata": {},
   "source": [
    "Implement the CNNClassifier. Note that this is a mock implementation, as we are not focusing on the actual model training and architecture details."
   ]
  },
  {
   "cell_type": "code",
   "execution_count": 11,
   "metadata": {},
   "outputs": [],
   "source": [
    "class CNNClassifier(DigitClassificationInterface):\n",
    "    def __init__(self):\n",
    "        self.model = self._build_model()\n",
    "        \n",
    "    def _build_model(self):\n",
    "        model = models.Sequential([\n",
    "            layers.Conv2D(32, (3, 3), activation='relu', input_shape=(28, 28, 1)),\n",
    "            layers.MaxPooling2D((2, 2)),\n",
    "            layers.Conv2D(64, (3, 3), activation='relu'),\n",
    "            layers.MaxPooling2D((2, 2)),\n",
    "            layers.Conv2D(64, (3, 3), activation='relu'),\n",
    "            layers.Flatten(),\n",
    "            layers.Dense(64, activation='relu'),\n",
    "            layers.Dense(10, activation='softmax')\n",
    "        ])\n",
    "        return model\n",
    "    \n",
    "    def predict(self, image: np.ndarray) -> int:\n",
    "        # Mock prediction for demonstration\n",
    "        return np.argmax(np.random.rand(10))"
   ]
  },
  {
   "cell_type": "markdown",
   "metadata": {},
   "source": [
    "\n"
   ]
  },
  {
   "cell_type": "code",
   "execution_count": 16,
   "metadata": {},
   "outputs": [],
   "source": [
    "class DigitClassificationInterface(ABC):\n",
    "    @abstractmethod\n",
    "    def predict(self, image: np.ndarray) -> int:\n",
    "        pass\n",
    "\n",
    "class CNNClassifier(DigitClassificationInterface):\n",
    "    def __init__(self):\n",
    "        self.model = self._build_model()\n",
    "        \n",
    "    def _build_model(self):\n",
    "        model = tf.keras.Sequential([\n",
    "            tf.keras.layers.Conv2D(32, (3, 3), activation='relu', input_shape=(28, 28, 1)),\n",
    "            tf.keras.layers.MaxPooling2D((2, 2)),\n",
    "            tf.keras.layers.Conv2D(64, (3, 3), activation='relu'),\n",
    "            tf.keras.layers.MaxPooling2D((2, 2)),\n",
    "            tf.keras.layers.Conv2D(64, (3, 3), activation='relu'),\n",
    "            tf.keras.layers.Flatten(),\n",
    "            tf.keras.layers.Dense(64, activation='relu'),\n",
    "            tf.keras.layers.Dense(10, activation='softmax')\n",
    "        ])\n",
    "        return model\n",
    "    \n",
    "    def predict(self, image: np.ndarray) -> int:\n",
    "        # Mock prediction for demonstration\n",
    "        return np.argmax(np.random.rand(10))\n",
    "\n",
    "class RandomForestClassifierModel(DigitClassificationInterface):\n",
    "    def __init__(self):\n",
    "        self.model = RandomForestClassifier()\n",
    "    \n",
    "    def predict(self, image: np.ndarray) -> int:\n",
    "        image_flat = image.flatten().reshape(1, -1)\n",
    "        return np.random.randint(0, 10)\n",
    "\n",
    "class RandomClassifier(DigitClassificationInterface):\n",
    "    def predict(self, image: np.ndarray) -> int:\n",
    "        center_cropped_image = image[9:19, 9:19]\n",
    "        return np.random.randint(0, 10)\n",
    "\n",
    "class DigitClassifier:\n",
    "    def __init__(self, algorithm: str):\n",
    "        self.algorithm = algorithm\n",
    "        self.model = self._get_model(algorithm)\n",
    "        \n",
    "    def _get_model(self, algorithm: str) -> DigitClassificationInterface:\n",
    "        if algorithm == 'cnn':\n",
    "            return CNNClassifier()\n",
    "        elif algorithm == 'rf':\n",
    "            return RandomForestClassifierModel()\n",
    "        elif algorithm == 'rand':\n",
    "            return RandomClassifier()\n",
    "        else:\n",
    "            raise ValueError(\"Unsupported algorithm. Choose from 'cnn', 'rf', 'rand'.\")\n",
    "    \n",
    "    def predict(self, image: np.ndarray) -> int:\n",
    "        if image.shape != (28, 28, 1):\n",
    "            raise ValueError(\"Input image must have shape (28, 28, 1).\")\n",
    "        return self.model.predict(image)\n",
    "\n"
   ]
  },
  {
   "cell_type": "code",
   "execution_count": 17,
   "metadata": {},
   "outputs": [
    {
     "name": "stdout",
     "output_type": "stream",
     "text": [
      "CNN Prediction: 8\n",
      "RF Prediction: 8\n",
      "Random Prediction: 8\n"
     ]
    }
   ],
   "source": [
    "# Example Usage\n",
    "if __name__ == \"__main__\":\n",
    "    dummy_image = np.random.rand(28, 28, 1)\n",
    "    \n",
    "    classifier = DigitClassifier(algorithm='cnn')\n",
    "    print(\"CNN Prediction:\", classifier.predict(dummy_image))\n",
    "    \n",
    "    classifier = DigitClassifier(algorithm='rf')\n",
    "    print(\"RF Prediction:\", classifier.predict(dummy_image))\n",
    "    \n",
    "    classifier = DigitClassifier(algorithm='rand')\n",
    "    print(\"Random Prediction:\", classifier.predict(dummy_image))"
   ]
  }
 ],
 "metadata": {
  "kernelspec": {
   "display_name": "base",
   "language": "python",
   "name": "python3"
  },
  "language_info": {
   "codemirror_mode": {
    "name": "ipython",
    "version": 3
   },
   "file_extension": ".py",
   "mimetype": "text/x-python",
   "name": "python",
   "nbconvert_exporter": "python",
   "pygments_lexer": "ipython3",
   "version": "3.11.5"
  }
 },
 "nbformat": 4,
 "nbformat_minor": 2
}
